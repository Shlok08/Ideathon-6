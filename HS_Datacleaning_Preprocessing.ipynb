{
  "nbformat": 4,
  "nbformat_minor": 0,
  "metadata": {
    "colab": {
      "provenance": []
    },
    "kernelspec": {
      "name": "python3",
      "display_name": "Python 3"
    },
    "language_info": {
      "name": "python"
    }
  },
  "cells": [
    {
      "cell_type": "code",
      "execution_count": 1,
      "metadata": {
        "colab": {
          "base_uri": "https://localhost:8080/",
          "height": 206
        },
        "id": "oomzMkSp97NE",
        "outputId": "162f4dee-6aac-4cd7-995e-09108ef1c1a7"
      },
      "outputs": [
        {
          "output_type": "execute_result",
          "data": {
            "text/plain": [
              "  commodity_name    state    district    market  min_price  max_price  \\\n",
              "0          Ajwan  Gujarat      Amreli    Amreli      63.25      79.55   \n",
              "1          Ajwan  Gujarat  Banaskanth   Dhanera      80.05      80.05   \n",
              "2          Ajwan  Gujarat    Jamnagar  Jamnagar      90.00     155.00   \n",
              "3          Ajwan  Gujarat     Mehsana      Kadi      94.50     112.50   \n",
              "4          Ajwan  Gujarat     Mehsana     Unjha      21.25     148.50   \n",
              "\n",
              "   modal_price        date  \n",
              "0        79.55  2019-05-22  \n",
              "1        80.05  2019-05-22  \n",
              "2       122.50  2019-05-22  \n",
              "3       107.00  2019-05-22  \n",
              "4        99.75  2019-05-22  "
            ],
            "text/html": [
              "\n",
              "  <div id=\"df-7dd0c9be-b18a-42bb-a33f-48ac73f908b5\" class=\"colab-df-container\">\n",
              "    <div>\n",
              "<style scoped>\n",
              "    .dataframe tbody tr th:only-of-type {\n",
              "        vertical-align: middle;\n",
              "    }\n",
              "\n",
              "    .dataframe tbody tr th {\n",
              "        vertical-align: top;\n",
              "    }\n",
              "\n",
              "    .dataframe thead th {\n",
              "        text-align: right;\n",
              "    }\n",
              "</style>\n",
              "<table border=\"1\" class=\"dataframe\">\n",
              "  <thead>\n",
              "    <tr style=\"text-align: right;\">\n",
              "      <th></th>\n",
              "      <th>commodity_name</th>\n",
              "      <th>state</th>\n",
              "      <th>district</th>\n",
              "      <th>market</th>\n",
              "      <th>min_price</th>\n",
              "      <th>max_price</th>\n",
              "      <th>modal_price</th>\n",
              "      <th>date</th>\n",
              "    </tr>\n",
              "  </thead>\n",
              "  <tbody>\n",
              "    <tr>\n",
              "      <th>0</th>\n",
              "      <td>Ajwan</td>\n",
              "      <td>Gujarat</td>\n",
              "      <td>Amreli</td>\n",
              "      <td>Amreli</td>\n",
              "      <td>63.25</td>\n",
              "      <td>79.55</td>\n",
              "      <td>79.55</td>\n",
              "      <td>2019-05-22</td>\n",
              "    </tr>\n",
              "    <tr>\n",
              "      <th>1</th>\n",
              "      <td>Ajwan</td>\n",
              "      <td>Gujarat</td>\n",
              "      <td>Banaskanth</td>\n",
              "      <td>Dhanera</td>\n",
              "      <td>80.05</td>\n",
              "      <td>80.05</td>\n",
              "      <td>80.05</td>\n",
              "      <td>2019-05-22</td>\n",
              "    </tr>\n",
              "    <tr>\n",
              "      <th>2</th>\n",
              "      <td>Ajwan</td>\n",
              "      <td>Gujarat</td>\n",
              "      <td>Jamnagar</td>\n",
              "      <td>Jamnagar</td>\n",
              "      <td>90.00</td>\n",
              "      <td>155.00</td>\n",
              "      <td>122.50</td>\n",
              "      <td>2019-05-22</td>\n",
              "    </tr>\n",
              "    <tr>\n",
              "      <th>3</th>\n",
              "      <td>Ajwan</td>\n",
              "      <td>Gujarat</td>\n",
              "      <td>Mehsana</td>\n",
              "      <td>Kadi</td>\n",
              "      <td>94.50</td>\n",
              "      <td>112.50</td>\n",
              "      <td>107.00</td>\n",
              "      <td>2019-05-22</td>\n",
              "    </tr>\n",
              "    <tr>\n",
              "      <th>4</th>\n",
              "      <td>Ajwan</td>\n",
              "      <td>Gujarat</td>\n",
              "      <td>Mehsana</td>\n",
              "      <td>Unjha</td>\n",
              "      <td>21.25</td>\n",
              "      <td>148.50</td>\n",
              "      <td>99.75</td>\n",
              "      <td>2019-05-22</td>\n",
              "    </tr>\n",
              "  </tbody>\n",
              "</table>\n",
              "</div>\n",
              "    <div class=\"colab-df-buttons\">\n",
              "\n",
              "  <div class=\"colab-df-container\">\n",
              "    <button class=\"colab-df-convert\" onclick=\"convertToInteractive('df-7dd0c9be-b18a-42bb-a33f-48ac73f908b5')\"\n",
              "            title=\"Convert this dataframe to an interactive table.\"\n",
              "            style=\"display:none;\">\n",
              "\n",
              "  <svg xmlns=\"http://www.w3.org/2000/svg\" height=\"24px\" viewBox=\"0 -960 960 960\">\n",
              "    <path d=\"M120-120v-720h720v720H120Zm60-500h600v-160H180v160Zm220 220h160v-160H400v160Zm0 220h160v-160H400v160ZM180-400h160v-160H180v160Zm440 0h160v-160H620v160ZM180-180h160v-160H180v160Zm440 0h160v-160H620v160Z\"/>\n",
              "  </svg>\n",
              "    </button>\n",
              "\n",
              "  <style>\n",
              "    .colab-df-container {\n",
              "      display:flex;\n",
              "      gap: 12px;\n",
              "    }\n",
              "\n",
              "    .colab-df-convert {\n",
              "      background-color: #E8F0FE;\n",
              "      border: none;\n",
              "      border-radius: 50%;\n",
              "      cursor: pointer;\n",
              "      display: none;\n",
              "      fill: #1967D2;\n",
              "      height: 32px;\n",
              "      padding: 0 0 0 0;\n",
              "      width: 32px;\n",
              "    }\n",
              "\n",
              "    .colab-df-convert:hover {\n",
              "      background-color: #E2EBFA;\n",
              "      box-shadow: 0px 1px 2px rgba(60, 64, 67, 0.3), 0px 1px 3px 1px rgba(60, 64, 67, 0.15);\n",
              "      fill: #174EA6;\n",
              "    }\n",
              "\n",
              "    .colab-df-buttons div {\n",
              "      margin-bottom: 4px;\n",
              "    }\n",
              "\n",
              "    [theme=dark] .colab-df-convert {\n",
              "      background-color: #3B4455;\n",
              "      fill: #D2E3FC;\n",
              "    }\n",
              "\n",
              "    [theme=dark] .colab-df-convert:hover {\n",
              "      background-color: #434B5C;\n",
              "      box-shadow: 0px 1px 3px 1px rgba(0, 0, 0, 0.15);\n",
              "      filter: drop-shadow(0px 1px 2px rgba(0, 0, 0, 0.3));\n",
              "      fill: #FFFFFF;\n",
              "    }\n",
              "  </style>\n",
              "\n",
              "    <script>\n",
              "      const buttonEl =\n",
              "        document.querySelector('#df-7dd0c9be-b18a-42bb-a33f-48ac73f908b5 button.colab-df-convert');\n",
              "      buttonEl.style.display =\n",
              "        google.colab.kernel.accessAllowed ? 'block' : 'none';\n",
              "\n",
              "      async function convertToInteractive(key) {\n",
              "        const element = document.querySelector('#df-7dd0c9be-b18a-42bb-a33f-48ac73f908b5');\n",
              "        const dataTable =\n",
              "          await google.colab.kernel.invokeFunction('convertToInteractive',\n",
              "                                                    [key], {});\n",
              "        if (!dataTable) return;\n",
              "\n",
              "        const docLinkHtml = 'Like what you see? Visit the ' +\n",
              "          '<a target=\"_blank\" href=https://colab.research.google.com/notebooks/data_table.ipynb>data table notebook</a>'\n",
              "          + ' to learn more about interactive tables.';\n",
              "        element.innerHTML = '';\n",
              "        dataTable['output_type'] = 'display_data';\n",
              "        await google.colab.output.renderOutput(dataTable, element);\n",
              "        const docLink = document.createElement('div');\n",
              "        docLink.innerHTML = docLinkHtml;\n",
              "        element.appendChild(docLink);\n",
              "      }\n",
              "    </script>\n",
              "  </div>\n",
              "\n",
              "\n",
              "<div id=\"df-158fbea9-b4e3-4f1c-b100-80bee62f59c3\">\n",
              "  <button class=\"colab-df-quickchart\" onclick=\"quickchart('df-158fbea9-b4e3-4f1c-b100-80bee62f59c3')\"\n",
              "            title=\"Suggest charts\"\n",
              "            style=\"display:none;\">\n",
              "\n",
              "<svg xmlns=\"http://www.w3.org/2000/svg\" height=\"24px\"viewBox=\"0 0 24 24\"\n",
              "     width=\"24px\">\n",
              "    <g>\n",
              "        <path d=\"M19 3H5c-1.1 0-2 .9-2 2v14c0 1.1.9 2 2 2h14c1.1 0 2-.9 2-2V5c0-1.1-.9-2-2-2zM9 17H7v-7h2v7zm4 0h-2V7h2v10zm4 0h-2v-4h2v4z\"/>\n",
              "    </g>\n",
              "</svg>\n",
              "  </button>\n",
              "\n",
              "<style>\n",
              "  .colab-df-quickchart {\n",
              "      --bg-color: #E8F0FE;\n",
              "      --fill-color: #1967D2;\n",
              "      --hover-bg-color: #E2EBFA;\n",
              "      --hover-fill-color: #174EA6;\n",
              "      --disabled-fill-color: #AAA;\n",
              "      --disabled-bg-color: #DDD;\n",
              "  }\n",
              "\n",
              "  [theme=dark] .colab-df-quickchart {\n",
              "      --bg-color: #3B4455;\n",
              "      --fill-color: #D2E3FC;\n",
              "      --hover-bg-color: #434B5C;\n",
              "      --hover-fill-color: #FFFFFF;\n",
              "      --disabled-bg-color: #3B4455;\n",
              "      --disabled-fill-color: #666;\n",
              "  }\n",
              "\n",
              "  .colab-df-quickchart {\n",
              "    background-color: var(--bg-color);\n",
              "    border: none;\n",
              "    border-radius: 50%;\n",
              "    cursor: pointer;\n",
              "    display: none;\n",
              "    fill: var(--fill-color);\n",
              "    height: 32px;\n",
              "    padding: 0;\n",
              "    width: 32px;\n",
              "  }\n",
              "\n",
              "  .colab-df-quickchart:hover {\n",
              "    background-color: var(--hover-bg-color);\n",
              "    box-shadow: 0 1px 2px rgba(60, 64, 67, 0.3), 0 1px 3px 1px rgba(60, 64, 67, 0.15);\n",
              "    fill: var(--button-hover-fill-color);\n",
              "  }\n",
              "\n",
              "  .colab-df-quickchart-complete:disabled,\n",
              "  .colab-df-quickchart-complete:disabled:hover {\n",
              "    background-color: var(--disabled-bg-color);\n",
              "    fill: var(--disabled-fill-color);\n",
              "    box-shadow: none;\n",
              "  }\n",
              "\n",
              "  .colab-df-spinner {\n",
              "    border: 2px solid var(--fill-color);\n",
              "    border-color: transparent;\n",
              "    border-bottom-color: var(--fill-color);\n",
              "    animation:\n",
              "      spin 1s steps(1) infinite;\n",
              "  }\n",
              "\n",
              "  @keyframes spin {\n",
              "    0% {\n",
              "      border-color: transparent;\n",
              "      border-bottom-color: var(--fill-color);\n",
              "      border-left-color: var(--fill-color);\n",
              "    }\n",
              "    20% {\n",
              "      border-color: transparent;\n",
              "      border-left-color: var(--fill-color);\n",
              "      border-top-color: var(--fill-color);\n",
              "    }\n",
              "    30% {\n",
              "      border-color: transparent;\n",
              "      border-left-color: var(--fill-color);\n",
              "      border-top-color: var(--fill-color);\n",
              "      border-right-color: var(--fill-color);\n",
              "    }\n",
              "    40% {\n",
              "      border-color: transparent;\n",
              "      border-right-color: var(--fill-color);\n",
              "      border-top-color: var(--fill-color);\n",
              "    }\n",
              "    60% {\n",
              "      border-color: transparent;\n",
              "      border-right-color: var(--fill-color);\n",
              "    }\n",
              "    80% {\n",
              "      border-color: transparent;\n",
              "      border-right-color: var(--fill-color);\n",
              "      border-bottom-color: var(--fill-color);\n",
              "    }\n",
              "    90% {\n",
              "      border-color: transparent;\n",
              "      border-bottom-color: var(--fill-color);\n",
              "    }\n",
              "  }\n",
              "</style>\n",
              "\n",
              "  <script>\n",
              "    async function quickchart(key) {\n",
              "      const quickchartButtonEl =\n",
              "        document.querySelector('#' + key + ' button');\n",
              "      quickchartButtonEl.disabled = true;  // To prevent multiple clicks.\n",
              "      quickchartButtonEl.classList.add('colab-df-spinner');\n",
              "      try {\n",
              "        const charts = await google.colab.kernel.invokeFunction(\n",
              "            'suggestCharts', [key], {});\n",
              "      } catch (error) {\n",
              "        console.error('Error during call to suggestCharts:', error);\n",
              "      }\n",
              "      quickchartButtonEl.classList.remove('colab-df-spinner');\n",
              "      quickchartButtonEl.classList.add('colab-df-quickchart-complete');\n",
              "    }\n",
              "    (() => {\n",
              "      let quickchartButtonEl =\n",
              "        document.querySelector('#df-158fbea9-b4e3-4f1c-b100-80bee62f59c3 button');\n",
              "      quickchartButtonEl.style.display =\n",
              "        google.colab.kernel.accessAllowed ? 'block' : 'none';\n",
              "    })();\n",
              "  </script>\n",
              "</div>\n",
              "\n",
              "    </div>\n",
              "  </div>\n"
            ],
            "application/vnd.google.colaboratory.intrinsic+json": {
              "type": "dataframe",
              "variable_name": "df",
              "summary": "{\n  \"name\": \"df\",\n  \"rows\": 84778,\n  \"fields\": [\n    {\n      \"column\": \"commodity_name\",\n      \"properties\": {\n        \"dtype\": \"category\",\n        \"num_unique_values\": 211,\n        \"samples\": [\n          \"Chapparad+Avare\",\n          \"Balekai\",\n          \"Spinach\"\n        ],\n        \"semantic_type\": \"\",\n        \"description\": \"\"\n      }\n    },\n    {\n      \"column\": \"state\",\n      \"properties\": {\n        \"dtype\": \"category\",\n        \"num_unique_values\": 30,\n        \"samples\": [\n          \"Mizoram\",\n          \"Assam\",\n          \"Andhra Pradesh\"\n        ],\n        \"semantic_type\": \"\",\n        \"description\": \"\"\n      }\n    },\n    {\n      \"column\": \"district\",\n      \"properties\": {\n        \"dtype\": \"category\",\n        \"num_unique_values\": 447,\n        \"samples\": [\n          \"Shivpuri\",\n          \"Unokoti\",\n          \"Nalbari\"\n        ],\n        \"semantic_type\": \"\",\n        \"description\": \"\"\n      }\n    },\n    {\n      \"column\": \"market\",\n      \"properties\": {\n        \"dtype\": \"category\",\n        \"num_unique_values\": 1760,\n        \"samples\": [\n          \"Mekhliganj\",\n          \"Baberu\",\n          \"Chandrapur\"\n        ],\n        \"semantic_type\": \"\",\n        \"description\": \"\"\n      }\n    },\n    {\n      \"column\": \"min_price\",\n      \"properties\": {\n        \"dtype\": \"number\",\n        \"std\": 35.605005645624246,\n        \"min\": 0.0,\n        \"max\": 4500.0,\n        \"num_unique_values\": 3697,\n        \"samples\": [\n          152.55,\n          43.49,\n          54.6\n        ],\n        \"semantic_type\": \"\",\n        \"description\": \"\"\n      }\n    },\n    {\n      \"column\": \"max_price\",\n      \"properties\": {\n        \"dtype\": \"number\",\n        \"std\": 85.94252165334944,\n        \"min\": 0.0,\n        \"max\": 22500.0,\n        \"num_unique_values\": 4515,\n        \"samples\": [\n          27.75,\n          48.85,\n          34.15\n        ],\n        \"semantic_type\": \"\",\n        \"description\": \"\"\n      }\n    },\n    {\n      \"column\": \"modal_price\",\n      \"properties\": {\n        \"dtype\": \"number\",\n        \"std\": 57.747039298909435,\n        \"min\": 0.01,\n        \"max\": 13500.0,\n        \"num_unique_values\": 4645,\n        \"samples\": [\n          53.85,\n          4.87,\n          23.55\n        ],\n        \"semantic_type\": \"\",\n        \"description\": \"\"\n      }\n    },\n    {\n      \"column\": \"date\",\n      \"properties\": {\n        \"dtype\": \"object\",\n        \"num_unique_values\": 80,\n        \"samples\": [\n          \"2019-06-29\",\n          \"2019-05-22\",\n          \"2019-06-21\"\n        ],\n        \"semantic_type\": \"\",\n        \"description\": \"\"\n      }\n    }\n  ]\n}"
            }
          },
          "metadata": {},
          "execution_count": 1
        }
      ],
      "source": [
        "import pandas as pd\n",
        "\n",
        "file_path = \"agridata_csv_202110311352.csv\"\n",
        "df = pd.read_csv(file_path)\n",
        "df.head()"
      ]
    },
    {
      "cell_type": "markdown",
      "source": [
        "Randomizing the dataset and deleting a portion of it so that the execution time is less."
      ],
      "metadata": {
        "id": "8-xOprQYDAJ5"
      }
    },
    {
      "cell_type": "code",
      "source": [
        "# Shuffle the dataset to ensure randomness\n",
        "df = df.sample(frac=1, random_state=42).reset_index(drop=True)  # Full shuffle\n",
        "\n",
        "# Take a 20% sample\n",
        "df_sampled = df.sample(frac=0.2, random_state=42)\n",
        "\n",
        "# Reset index after sampling\n",
        "df_sampled.reset_index(drop=True, inplace=True)\n",
        "\n",
        "# Save the reduced dataset\n",
        "df_sampled.to_csv(\"/content/reduced_dataset.csv\", index=False)\n",
        "print(\"✅ Reduced dataset saved successfully! Shape:\", df_sampled.shape)\n"
      ],
      "metadata": {
        "colab": {
          "base_uri": "https://localhost:8080/"
        },
        "id": "Fi92EVaM-GCC",
        "outputId": "907a9109-815f-469e-865e-ffbccd15e24e"
      },
      "execution_count": 2,
      "outputs": [
        {
          "output_type": "stream",
          "name": "stdout",
          "text": [
            "✅ Reduced dataset saved successfully! Shape: (16956, 8)\n"
          ]
        }
      ]
    },
    {
      "cell_type": "markdown",
      "source": [
        "Loading the reduced data"
      ],
      "metadata": {
        "id": "Lyao5OMoC8az"
      }
    },
    {
      "cell_type": "code",
      "source": [
        "import pandas as pd\n",
        "\n",
        "# Load the reduced dataset\n",
        "file_path = \"/content/reduced_dataset.csv\"\n",
        "df = pd.read_csv(file_path)\n",
        "\n",
        "# Display first few rows\n",
        "df.head()\n"
      ],
      "metadata": {
        "colab": {
          "base_uri": "https://localhost:8080/",
          "height": 206
        },
        "id": "DMNcuP34-eVF",
        "outputId": "8f0ab9de-29e4-4005-cf7e-4acbb12b3462"
      },
      "execution_count": 3,
      "outputs": [
        {
          "output_type": "execute_result",
          "data": {
            "text/plain": [
              "  commodity_name             state    district           market  min_price  \\\n",
              "0         Grapes       Maharashtra        Pune             Pune      22.00   \n",
              "1   Gingelly+Oil        Tamil Nadu  Villupuram     Thirukovilur      91.25   \n",
              "2        Raddish  Himachal Pradesh       Solan  Solan(Nalagarh)       9.00   \n",
              "3       Capsicum  Himachal Pradesh    Bilaspur         Bilaspur      18.00   \n",
              "4         Banana     Uttar Pradesh      Ballia           Ballia      27.30   \n",
              "\n",
              "   max_price  modal_price        date  \n",
              "0      56.00        35.00  2019-05-22  \n",
              "1     106.13       101.13  2019-06-14  \n",
              "2      12.00        10.00  2019-05-25  \n",
              "3      36.00        26.00  2019-07-03  \n",
              "4      28.80        28.00  2019-06-21  "
            ],
            "text/html": [
              "\n",
              "  <div id=\"df-f9de801e-3e0a-4ebe-aa31-3e2835df6423\" class=\"colab-df-container\">\n",
              "    <div>\n",
              "<style scoped>\n",
              "    .dataframe tbody tr th:only-of-type {\n",
              "        vertical-align: middle;\n",
              "    }\n",
              "\n",
              "    .dataframe tbody tr th {\n",
              "        vertical-align: top;\n",
              "    }\n",
              "\n",
              "    .dataframe thead th {\n",
              "        text-align: right;\n",
              "    }\n",
              "</style>\n",
              "<table border=\"1\" class=\"dataframe\">\n",
              "  <thead>\n",
              "    <tr style=\"text-align: right;\">\n",
              "      <th></th>\n",
              "      <th>commodity_name</th>\n",
              "      <th>state</th>\n",
              "      <th>district</th>\n",
              "      <th>market</th>\n",
              "      <th>min_price</th>\n",
              "      <th>max_price</th>\n",
              "      <th>modal_price</th>\n",
              "      <th>date</th>\n",
              "    </tr>\n",
              "  </thead>\n",
              "  <tbody>\n",
              "    <tr>\n",
              "      <th>0</th>\n",
              "      <td>Grapes</td>\n",
              "      <td>Maharashtra</td>\n",
              "      <td>Pune</td>\n",
              "      <td>Pune</td>\n",
              "      <td>22.00</td>\n",
              "      <td>56.00</td>\n",
              "      <td>35.00</td>\n",
              "      <td>2019-05-22</td>\n",
              "    </tr>\n",
              "    <tr>\n",
              "      <th>1</th>\n",
              "      <td>Gingelly+Oil</td>\n",
              "      <td>Tamil Nadu</td>\n",
              "      <td>Villupuram</td>\n",
              "      <td>Thirukovilur</td>\n",
              "      <td>91.25</td>\n",
              "      <td>106.13</td>\n",
              "      <td>101.13</td>\n",
              "      <td>2019-06-14</td>\n",
              "    </tr>\n",
              "    <tr>\n",
              "      <th>2</th>\n",
              "      <td>Raddish</td>\n",
              "      <td>Himachal Pradesh</td>\n",
              "      <td>Solan</td>\n",
              "      <td>Solan(Nalagarh)</td>\n",
              "      <td>9.00</td>\n",
              "      <td>12.00</td>\n",
              "      <td>10.00</td>\n",
              "      <td>2019-05-25</td>\n",
              "    </tr>\n",
              "    <tr>\n",
              "      <th>3</th>\n",
              "      <td>Capsicum</td>\n",
              "      <td>Himachal Pradesh</td>\n",
              "      <td>Bilaspur</td>\n",
              "      <td>Bilaspur</td>\n",
              "      <td>18.00</td>\n",
              "      <td>36.00</td>\n",
              "      <td>26.00</td>\n",
              "      <td>2019-07-03</td>\n",
              "    </tr>\n",
              "    <tr>\n",
              "      <th>4</th>\n",
              "      <td>Banana</td>\n",
              "      <td>Uttar Pradesh</td>\n",
              "      <td>Ballia</td>\n",
              "      <td>Ballia</td>\n",
              "      <td>27.30</td>\n",
              "      <td>28.80</td>\n",
              "      <td>28.00</td>\n",
              "      <td>2019-06-21</td>\n",
              "    </tr>\n",
              "  </tbody>\n",
              "</table>\n",
              "</div>\n",
              "    <div class=\"colab-df-buttons\">\n",
              "\n",
              "  <div class=\"colab-df-container\">\n",
              "    <button class=\"colab-df-convert\" onclick=\"convertToInteractive('df-f9de801e-3e0a-4ebe-aa31-3e2835df6423')\"\n",
              "            title=\"Convert this dataframe to an interactive table.\"\n",
              "            style=\"display:none;\">\n",
              "\n",
              "  <svg xmlns=\"http://www.w3.org/2000/svg\" height=\"24px\" viewBox=\"0 -960 960 960\">\n",
              "    <path d=\"M120-120v-720h720v720H120Zm60-500h600v-160H180v160Zm220 220h160v-160H400v160Zm0 220h160v-160H400v160ZM180-400h160v-160H180v160Zm440 0h160v-160H620v160ZM180-180h160v-160H180v160Zm440 0h160v-160H620v160Z\"/>\n",
              "  </svg>\n",
              "    </button>\n",
              "\n",
              "  <style>\n",
              "    .colab-df-container {\n",
              "      display:flex;\n",
              "      gap: 12px;\n",
              "    }\n",
              "\n",
              "    .colab-df-convert {\n",
              "      background-color: #E8F0FE;\n",
              "      border: none;\n",
              "      border-radius: 50%;\n",
              "      cursor: pointer;\n",
              "      display: none;\n",
              "      fill: #1967D2;\n",
              "      height: 32px;\n",
              "      padding: 0 0 0 0;\n",
              "      width: 32px;\n",
              "    }\n",
              "\n",
              "    .colab-df-convert:hover {\n",
              "      background-color: #E2EBFA;\n",
              "      box-shadow: 0px 1px 2px rgba(60, 64, 67, 0.3), 0px 1px 3px 1px rgba(60, 64, 67, 0.15);\n",
              "      fill: #174EA6;\n",
              "    }\n",
              "\n",
              "    .colab-df-buttons div {\n",
              "      margin-bottom: 4px;\n",
              "    }\n",
              "\n",
              "    [theme=dark] .colab-df-convert {\n",
              "      background-color: #3B4455;\n",
              "      fill: #D2E3FC;\n",
              "    }\n",
              "\n",
              "    [theme=dark] .colab-df-convert:hover {\n",
              "      background-color: #434B5C;\n",
              "      box-shadow: 0px 1px 3px 1px rgba(0, 0, 0, 0.15);\n",
              "      filter: drop-shadow(0px 1px 2px rgba(0, 0, 0, 0.3));\n",
              "      fill: #FFFFFF;\n",
              "    }\n",
              "  </style>\n",
              "\n",
              "    <script>\n",
              "      const buttonEl =\n",
              "        document.querySelector('#df-f9de801e-3e0a-4ebe-aa31-3e2835df6423 button.colab-df-convert');\n",
              "      buttonEl.style.display =\n",
              "        google.colab.kernel.accessAllowed ? 'block' : 'none';\n",
              "\n",
              "      async function convertToInteractive(key) {\n",
              "        const element = document.querySelector('#df-f9de801e-3e0a-4ebe-aa31-3e2835df6423');\n",
              "        const dataTable =\n",
              "          await google.colab.kernel.invokeFunction('convertToInteractive',\n",
              "                                                    [key], {});\n",
              "        if (!dataTable) return;\n",
              "\n",
              "        const docLinkHtml = 'Like what you see? Visit the ' +\n",
              "          '<a target=\"_blank\" href=https://colab.research.google.com/notebooks/data_table.ipynb>data table notebook</a>'\n",
              "          + ' to learn more about interactive tables.';\n",
              "        element.innerHTML = '';\n",
              "        dataTable['output_type'] = 'display_data';\n",
              "        await google.colab.output.renderOutput(dataTable, element);\n",
              "        const docLink = document.createElement('div');\n",
              "        docLink.innerHTML = docLinkHtml;\n",
              "        element.appendChild(docLink);\n",
              "      }\n",
              "    </script>\n",
              "  </div>\n",
              "\n",
              "\n",
              "<div id=\"df-4684e74a-ee53-49c5-9969-1a911ba27517\">\n",
              "  <button class=\"colab-df-quickchart\" onclick=\"quickchart('df-4684e74a-ee53-49c5-9969-1a911ba27517')\"\n",
              "            title=\"Suggest charts\"\n",
              "            style=\"display:none;\">\n",
              "\n",
              "<svg xmlns=\"http://www.w3.org/2000/svg\" height=\"24px\"viewBox=\"0 0 24 24\"\n",
              "     width=\"24px\">\n",
              "    <g>\n",
              "        <path d=\"M19 3H5c-1.1 0-2 .9-2 2v14c0 1.1.9 2 2 2h14c1.1 0 2-.9 2-2V5c0-1.1-.9-2-2-2zM9 17H7v-7h2v7zm4 0h-2V7h2v10zm4 0h-2v-4h2v4z\"/>\n",
              "    </g>\n",
              "</svg>\n",
              "  </button>\n",
              "\n",
              "<style>\n",
              "  .colab-df-quickchart {\n",
              "      --bg-color: #E8F0FE;\n",
              "      --fill-color: #1967D2;\n",
              "      --hover-bg-color: #E2EBFA;\n",
              "      --hover-fill-color: #174EA6;\n",
              "      --disabled-fill-color: #AAA;\n",
              "      --disabled-bg-color: #DDD;\n",
              "  }\n",
              "\n",
              "  [theme=dark] .colab-df-quickchart {\n",
              "      --bg-color: #3B4455;\n",
              "      --fill-color: #D2E3FC;\n",
              "      --hover-bg-color: #434B5C;\n",
              "      --hover-fill-color: #FFFFFF;\n",
              "      --disabled-bg-color: #3B4455;\n",
              "      --disabled-fill-color: #666;\n",
              "  }\n",
              "\n",
              "  .colab-df-quickchart {\n",
              "    background-color: var(--bg-color);\n",
              "    border: none;\n",
              "    border-radius: 50%;\n",
              "    cursor: pointer;\n",
              "    display: none;\n",
              "    fill: var(--fill-color);\n",
              "    height: 32px;\n",
              "    padding: 0;\n",
              "    width: 32px;\n",
              "  }\n",
              "\n",
              "  .colab-df-quickchart:hover {\n",
              "    background-color: var(--hover-bg-color);\n",
              "    box-shadow: 0 1px 2px rgba(60, 64, 67, 0.3), 0 1px 3px 1px rgba(60, 64, 67, 0.15);\n",
              "    fill: var(--button-hover-fill-color);\n",
              "  }\n",
              "\n",
              "  .colab-df-quickchart-complete:disabled,\n",
              "  .colab-df-quickchart-complete:disabled:hover {\n",
              "    background-color: var(--disabled-bg-color);\n",
              "    fill: var(--disabled-fill-color);\n",
              "    box-shadow: none;\n",
              "  }\n",
              "\n",
              "  .colab-df-spinner {\n",
              "    border: 2px solid var(--fill-color);\n",
              "    border-color: transparent;\n",
              "    border-bottom-color: var(--fill-color);\n",
              "    animation:\n",
              "      spin 1s steps(1) infinite;\n",
              "  }\n",
              "\n",
              "  @keyframes spin {\n",
              "    0% {\n",
              "      border-color: transparent;\n",
              "      border-bottom-color: var(--fill-color);\n",
              "      border-left-color: var(--fill-color);\n",
              "    }\n",
              "    20% {\n",
              "      border-color: transparent;\n",
              "      border-left-color: var(--fill-color);\n",
              "      border-top-color: var(--fill-color);\n",
              "    }\n",
              "    30% {\n",
              "      border-color: transparent;\n",
              "      border-left-color: var(--fill-color);\n",
              "      border-top-color: var(--fill-color);\n",
              "      border-right-color: var(--fill-color);\n",
              "    }\n",
              "    40% {\n",
              "      border-color: transparent;\n",
              "      border-right-color: var(--fill-color);\n",
              "      border-top-color: var(--fill-color);\n",
              "    }\n",
              "    60% {\n",
              "      border-color: transparent;\n",
              "      border-right-color: var(--fill-color);\n",
              "    }\n",
              "    80% {\n",
              "      border-color: transparent;\n",
              "      border-right-color: var(--fill-color);\n",
              "      border-bottom-color: var(--fill-color);\n",
              "    }\n",
              "    90% {\n",
              "      border-color: transparent;\n",
              "      border-bottom-color: var(--fill-color);\n",
              "    }\n",
              "  }\n",
              "</style>\n",
              "\n",
              "  <script>\n",
              "    async function quickchart(key) {\n",
              "      const quickchartButtonEl =\n",
              "        document.querySelector('#' + key + ' button');\n",
              "      quickchartButtonEl.disabled = true;  // To prevent multiple clicks.\n",
              "      quickchartButtonEl.classList.add('colab-df-spinner');\n",
              "      try {\n",
              "        const charts = await google.colab.kernel.invokeFunction(\n",
              "            'suggestCharts', [key], {});\n",
              "      } catch (error) {\n",
              "        console.error('Error during call to suggestCharts:', error);\n",
              "      }\n",
              "      quickchartButtonEl.classList.remove('colab-df-spinner');\n",
              "      quickchartButtonEl.classList.add('colab-df-quickchart-complete');\n",
              "    }\n",
              "    (() => {\n",
              "      let quickchartButtonEl =\n",
              "        document.querySelector('#df-4684e74a-ee53-49c5-9969-1a911ba27517 button');\n",
              "      quickchartButtonEl.style.display =\n",
              "        google.colab.kernel.accessAllowed ? 'block' : 'none';\n",
              "    })();\n",
              "  </script>\n",
              "</div>\n",
              "\n",
              "    </div>\n",
              "  </div>\n"
            ],
            "application/vnd.google.colaboratory.intrinsic+json": {
              "type": "dataframe",
              "variable_name": "df",
              "summary": "{\n  \"name\": \"df\",\n  \"rows\": 16956,\n  \"fields\": [\n    {\n      \"column\": \"commodity_name\",\n      \"properties\": {\n        \"dtype\": \"category\",\n        \"num_unique_values\": 184,\n        \"samples\": [\n          \"Maize\",\n          \"Drumstick\",\n          \"Alsandikai\"\n        ],\n        \"semantic_type\": \"\",\n        \"description\": \"\"\n      }\n    },\n    {\n      \"column\": \"state\",\n      \"properties\": {\n        \"dtype\": \"category\",\n        \"num_unique_values\": 28,\n        \"samples\": [\n          \"Jammu and Kashmir\",\n          \"Manipur\",\n          \"Madhya Pradesh\"\n        ],\n        \"semantic_type\": \"\",\n        \"description\": \"\"\n      }\n    },\n    {\n      \"column\": \"district\",\n      \"properties\": {\n        \"dtype\": \"category\",\n        \"num_unique_values\": 420,\n        \"samples\": [\n          \"Jalpaiguri\",\n          \"Betul\",\n          \"East Khasi Hills\"\n        ],\n        \"semantic_type\": \"\",\n        \"description\": \"\"\n      }\n    },\n    {\n      \"column\": \"market\",\n      \"properties\": {\n        \"dtype\": \"category\",\n        \"num_unique_values\": 1439,\n        \"samples\": [\n          \"Khateema\",\n          \"Rohroo\",\n          \"Mysore (Bandipalya)\"\n        ],\n        \"semantic_type\": \"\",\n        \"description\": \"\"\n      }\n    },\n    {\n      \"column\": \"min_price\",\n      \"properties\": {\n        \"dtype\": \"number\",\n        \"std\": 29.246179491957268,\n        \"min\": 0.0,\n        \"max\": 1100.0,\n        \"num_unique_values\": 1715,\n        \"samples\": [\n          29.1,\n          70.25,\n          23.35\n        ],\n        \"semantic_type\": \"\",\n        \"description\": \"\"\n      }\n    },\n    {\n      \"column\": \"max_price\",\n      \"properties\": {\n        \"dtype\": \"number\",\n        \"std\": 35.09359110246334,\n        \"min\": 0.0,\n        \"max\": 1300.0,\n        \"num_unique_values\": 2084,\n        \"samples\": [\n          5.85,\n          15.3,\n          22.55\n        ],\n        \"semantic_type\": \"\",\n        \"description\": \"\"\n      }\n    },\n    {\n      \"column\": \"modal_price\",\n      \"properties\": {\n        \"dtype\": \"number\",\n        \"std\": 31.182854091643126,\n        \"min\": 0.01,\n        \"max\": 1200.0,\n        \"num_unique_values\": 2150,\n        \"samples\": [\n          53.85,\n          55.41,\n          7.15\n        ],\n        \"semantic_type\": \"\",\n        \"description\": \"\"\n      }\n    },\n    {\n      \"column\": \"date\",\n      \"properties\": {\n        \"dtype\": \"object\",\n        \"num_unique_values\": 59,\n        \"samples\": [\n          \"2019-05-22\",\n          \"2019-06-18\",\n          \"2019-06-28\"\n        ],\n        \"semantic_type\": \"\",\n        \"description\": \"\"\n      }\n    }\n  ]\n}"
            }
          },
          "metadata": {},
          "execution_count": 3
        }
      ]
    },
    {
      "cell_type": "markdown",
      "source": [
        "Removing the missing values"
      ],
      "metadata": {
        "id": "nWnky0MSC3gS"
      }
    },
    {
      "cell_type": "code",
      "source": [
        "# Check for missing values\n",
        "missing_summary = df.isnull().sum()\n",
        "print(\"Missing Values:\\n\", missing_summary[missing_summary > 0])\n",
        "\n",
        "# Handle missing values\n",
        "for col in df.columns:\n",
        "    if df[col].dtype == 'object':  # Categorical columns\n",
        "        df[col].fillna(df[col].mode()[0], inplace=True)\n",
        "    else:  # Numerical columns\n",
        "        df[col].fillna(df[col].median(), inplace=True)  # Median is better for price data\n"
      ],
      "metadata": {
        "colab": {
          "base_uri": "https://localhost:8080/"
        },
        "id": "lVyrOANS-gRV",
        "outputId": "0522c42f-dc24-405a-8e57-706d74d210ec"
      },
      "execution_count": 4,
      "outputs": [
        {
          "output_type": "stream",
          "name": "stdout",
          "text": [
            "Missing Values:\n",
            " Series([], dtype: int64)\n"
          ]
        },
        {
          "output_type": "stream",
          "name": "stderr",
          "text": [
            "<ipython-input-4-49e84bd2b358>:8: FutureWarning: A value is trying to be set on a copy of a DataFrame or Series through chained assignment using an inplace method.\n",
            "The behavior will change in pandas 3.0. This inplace method will never work because the intermediate object on which we are setting values always behaves as a copy.\n",
            "\n",
            "For example, when doing 'df[col].method(value, inplace=True)', try using 'df.method({col: value}, inplace=True)' or df[col] = df[col].method(value) instead, to perform the operation inplace on the original object.\n",
            "\n",
            "\n",
            "  df[col].fillna(df[col].mode()[0], inplace=True)\n",
            "<ipython-input-4-49e84bd2b358>:10: FutureWarning: A value is trying to be set on a copy of a DataFrame or Series through chained assignment using an inplace method.\n",
            "The behavior will change in pandas 3.0. This inplace method will never work because the intermediate object on which we are setting values always behaves as a copy.\n",
            "\n",
            "For example, when doing 'df[col].method(value, inplace=True)', try using 'df.method({col: value}, inplace=True)' or df[col] = df[col].method(value) instead, to perform the operation inplace on the original object.\n",
            "\n",
            "\n",
            "  df[col].fillna(df[col].median(), inplace=True)  # Median is better for price data\n"
          ]
        }
      ]
    },
    {
      "cell_type": "markdown",
      "source": [
        "Removing duplicates"
      ],
      "metadata": {
        "id": "iUwBPSbaC0rk"
      }
    },
    {
      "cell_type": "code",
      "source": [
        "df.drop_duplicates(inplace=True)\n"
      ],
      "metadata": {
        "id": "eqsuFi6x-nBL"
      },
      "execution_count": 5,
      "outputs": []
    },
    {
      "cell_type": "markdown",
      "source": [
        "Converting the date column into day,month,year numeric values"
      ],
      "metadata": {
        "id": "7kSthNrvCrG0"
      }
    },
    {
      "cell_type": "code",
      "source": [
        "# Identify date column (change 'date' if needed)\n",
        "df['date'] = pd.to_datetime(df['date'], errors='coerce')\n",
        "\n",
        "# Extract useful date features\n",
        "df['year'] = df['date'].dt.year\n",
        "df['month'] = df['date'].dt.month\n",
        "df['day'] = df['date'].dt.day\n",
        "df['day_of_week'] = df['date'].dt.dayofweek\n"
      ],
      "metadata": {
        "id": "YhEK2jMo-thu"
      },
      "execution_count": 8,
      "outputs": []
    },
    {
      "cell_type": "markdown",
      "source": [
        "Removing the outliers (Price Columns)"
      ],
      "metadata": {
        "id": "J3AbaBRdCWes"
      }
    },
    {
      "cell_type": "code",
      "source": [
        "import matplotlib.pyplot as plt\n",
        "import seaborn as sns\n",
        "\n",
        "price_cols = [\"max_price\", \"min_price\", \"modal_price\"]\n",
        "\n",
        "# Visualizing outliers using boxplots\n",
        "plt.figure(figsize=(12,5))\n",
        "for i, col in enumerate(price_cols, 1):\n",
        "    plt.subplot(1, 3, i)\n",
        "    sns.boxplot(y=df[col])\n",
        "    plt.title(f\"Boxplot of {col}\")\n",
        "\n",
        "plt.tight_layout()\n",
        "plt.show()\n",
        "\n",
        "# Removing outliers using IQR method\n",
        "for col in price_cols:\n",
        "    Q1 = df[col].quantile(0.25)\n",
        "    Q3 = df[col].quantile(0.75)\n",
        "    IQR = Q3 - Q1\n",
        "\n",
        "    lower_bound = Q1 - 1.5 * IQR\n",
        "    upper_bound = Q3 + 1.5 * IQR\n",
        "\n",
        "    # Keep only values within the IQR range\n",
        "    df = df[(df[col] >= lower_bound) & (df[col] <= upper_bound)]\n",
        "\n",
        "print(\"✅ Outliers removed successfully!\")\n"
      ],
      "metadata": {
        "colab": {
          "base_uri": "https://localhost:8080/",
          "height": 525
        },
        "id": "u-vNPON7_0oM",
        "outputId": "31815b30-8046-4cb0-acb1-6157973e0592"
      },
      "execution_count": 9,
      "outputs": [
        {
          "output_type": "display_data",
          "data": {
            "text/plain": [
              "<Figure size 1200x500 with 3 Axes>"
            ],
            "image/png": "[encoded data removed]"
          },
          "metadata": {}
        },
        {
          "output_type": "stream",
          "name": "stdout",
          "text": [
            "✅ Outliers removed successfully!\n"
          ]
        }
      ]
    },
    {
      "cell_type": "markdown",
      "source": [
        "Checking if the dataset is stationary"
      ],
      "metadata": {
        "id": "fVAPPc5oCPNZ"
      }
    },
    {
      "cell_type": "code",
      "source": [
        "from statsmodels.tsa.stattools import adfuller\n",
        "\n",
        "price_cols = [\"max_price\", \"min_price\", \"modal_price\"]\n",
        "\n",
        "for col in price_cols:\n",
        "    print(f\"\\n🔹 Checking stationarity for {col} 🔹\")\n",
        "\n",
        "    result = adfuller(df[col].dropna())  # Drop NaN before test\n",
        "\n",
        "    print(\"ADF Statistic:\", result[0])\n",
        "    print(\"p-value:\", result[1])\n",
        "\n",
        "    if result[1] < 0.05:\n",
        "        print(f\"✅ {col} is stationary (p-value < 0.05)\")\n",
        "    else:\n",
        "        print(f\"⚠️ {col} is NOT stationary (p-value >= 0.05), differencing may be needed\")\n",
        "\n",
        "        # Apply first-order differencing if non-stationary\n",
        "        df[f\"{col}_diff\"] = df[col] - df[col].shift(1)\n"
      ],
      "metadata": {
        "colab": {
          "base_uri": "https://localhost:8080/"
        },
        "id": "6rFUHvziAdP1",
        "outputId": "644097b0-580e-4697-c113-1a995f01c092"
      },
      "execution_count": 10,
      "outputs": [
        {
          "output_type": "stream",
          "name": "stdout",
          "text": [
            "\n",
            "🔹 Checking stationarity for max_price 🔹\n",
            "ADF Statistic: -125.55960618778496\n",
            "p-value: 0.0\n",
            "✅ max_price is stationary (p-value < 0.05)\n",
            "\n",
            "🔹 Checking stationarity for min_price 🔹\n",
            "ADF Statistic: -126.19350059509289\n",
            "p-value: 0.0\n",
            "✅ min_price is stationary (p-value < 0.05)\n",
            "\n",
            "🔹 Checking stationarity for modal_price 🔹\n",
            "ADF Statistic: -125.96842857793436\n",
            "p-value: 0.0\n",
            "✅ modal_price is stationary (p-value < 0.05)\n"
          ]
        }
      ]
    },
    {
      "cell_type": "markdown",
      "source": [
        "*Feature Engineering (Price Trends & Rolling averages)*"
      ],
      "metadata": {
        "id": "xxdNahCUCDm-"
      }
    },
    {
      "cell_type": "code",
      "source": [
        "# Create Lag Features (Previous Prices)\n",
        "for col in price_cols:\n",
        "    df[f\"{col}_lag1\"] = df[col].shift(1)  # Yesterday's price\n",
        "    df[f\"{col}_lag7\"] = df[col].shift(7)  # Price from last week\n",
        "\n",
        "# Create Rolling Averages\n",
        "for col in price_cols:\n",
        "    df[f\"{col}_7day_avg\"] = df[col].rolling(window=7).mean()\n"
      ],
      "metadata": {
        "id": "Y-jq7HgJAooK"
      },
      "execution_count": 11,
      "outputs": []
    },
    {
      "cell_type": "markdown",
      "source": [
        "*Normalizing the data (scaling prices for ML Models)*"
      ],
      "metadata": {
        "id": "cTD4phKRBuch"
      }
    },
    {
      "cell_type": "code",
      "source": [
        "from sklearn.preprocessing import MinMaxScaler\n",
        "\n",
        "scaler = MinMaxScaler()\n",
        "\n",
        "# Scale price-related features\n",
        "cols_to_scale = price_cols + [f\"{col}_lag1\" for col in price_cols] + [f\"{col}_7day_avg\" for col in price_cols]\n",
        "df[cols_to_scale] = scaler.fit_transform(df[cols_to_scale])\n"
      ],
      "metadata": {
        "id": "LRuHPtrlA167"
      },
      "execution_count": 12,
      "outputs": []
    },
    {
      "cell_type": "markdown",
      "source": [
        "*Saving the cleaned Dataset*"
      ],
      "metadata": {
        "id": "QJXhBahDBmET"
      }
    },
    {
      "cell_type": "code",
      "source": [
        "df.to_csv(\"/content/cleaned_dataset.csv\", index=False)\n",
        "print(\"✅ Cleaned dataset saved successfully!\")\n"
      ],
      "metadata": {
        "colab": {
          "base_uri": "https://localhost:8080/"
        },
        "id": "kJSYHtDLA4g3",
        "outputId": "6a4edd8a-fa75-45a3-a264-7eb2d383db76"
      },
      "execution_count": 13,
      "outputs": [
        {
          "output_type": "stream",
          "name": "stdout",
          "text": [
            "✅ Cleaned dataset saved successfully!\n"
          ]
        }
      ]
    },
    {
      "cell_type": "markdown",
      "source": [
        "splitting the dataset into 3 parts, training, testing and validation sets."
      ],
      "metadata": {
        "id": "SB2vianwJifv"
      }
    },
    {
      "cell_type": "code",
      "source": [
        "import pandas as pd\n",
        "from sklearn.model_selection import train_test_split\n",
        "\n",
        "# Load the cleaned dataset\n",
        "file_path = \"/content/cleaned_dataset.csv\"\n",
        "df = pd.read_csv(file_path)\n",
        "\n",
        "# Ensure date column is in datetime format\n",
        "df['date'] = pd.to_datetime(df['date'])\n",
        "\n",
        "# Drop rows with NaN (due to lag features and differencing)\n",
        "df.dropna(inplace=True)\n",
        "\n",
        "# Sort data by date (IMPORTANT for time-series)\n",
        "df = df.sort_values(by=\"date\")\n",
        "\n",
        "# Define train, validation, and test sizes\n",
        "train_size = int(len(df) * 0.7)  # 70% for training\n",
        "val_size = int(len(df) * 0.15)   # 15% for validation\n",
        "test_size = len(df) - train_size - val_size  # 15% for testing\n",
        "\n",
        "# Split the dataset\n",
        "train = df.iloc[:train_size]\n",
        "val = df.iloc[train_size:train_size+val_size]\n",
        "test = df.iloc[train_size+val_size:]\n",
        "\n",
        "# Save the splits\n",
        "train.to_csv(\"/content/train.csv\", index=False)\n",
        "val.to_csv(\"/content/val.csv\", index=False)\n",
        "test.to_csv(\"/content/test.csv\", index=False)\n",
        "\n",
        "print(\"✅ Dataset split successfully!\")\n",
        "print(f\"Train Set: {train.shape}\")\n",
        "print(f\"Validation Set: {val.shape}\")\n",
        "print(f\"Test Set: {test.shape}\")\n"
      ],
      "metadata": {
        "colab": {
          "base_uri": "https://localhost:8080/"
        },
        "id": "NlLlYZw4Fh93",
        "outputId": "713c94cd-c721-437d-a0f3-ad5bb2228549"
      },
      "execution_count": 14,
      "outputs": [
        {
          "output_type": "stream",
          "name": "stdout",
          "text": [
            "✅ Dataset split successfully!\n",
            "Train Set: (10899, 21)\n",
            "Validation Set: (2335, 21)\n",
            "Test Set: (2337, 21)\n"
          ]
        }
      ]
    }
  ]
}